{
 "cells": [
  {
   "cell_type": "markdown",
   "metadata": {
    "tags": []
   },
   "source": [
    "## **3**. Text Analysis <a class=\"anchor\" id=\"textanalysis\"/> \n",
    "\n",
    "During a online meeting, a client mentioned that a large collection of text data has to be analyzed in your next project. As a Data Scientist, you want to start developing some code that can be useful when you get your hands on the data. To do so, you decide to start a small programming exercise that uses articles about the topic of cars from the [20 newsgroups dataset](https://scikit-learn.org/0.19/datasets/twenty_newsgroups.html). You start with the the following code block."
   ]
  },
  {
   "cell_type": "code",
   "execution_count": 1,
   "metadata": {},
   "outputs": [],
   "source": [
    "from sklearn.datasets import fetch_20newsgroups # Import the function to download the dataset\n",
    "import pandas as pd\n",
    "\n",
    "data = fetch_20newsgroups()\n",
    "data.target_names\n",
    "\n",
    "categories = ['rec.autos'] # Define the car topic\n",
    "dataset = fetch_20newsgroups(subset='all', shuffle=True, categories=categories) # Download articles\n",
    "articles = dataset.data # Get the article text"
   ]
  },
  {
   "cell_type": "markdown",
   "metadata": {},
   "source": [
    "Checking the first data instance:"
   ]
  },
  {
   "cell_type": "code",
   "execution_count": 391,
   "metadata": {},
   "outputs": [
    {
     "name": "stdout",
     "output_type": "stream",
     "text": [
      "---\n",
      "Text: From: mad9a@fermi.clas.Virginia.EDU (Michael A. Davis)\n",
      "Subject: Slick 50, any good?\n",
      "Organization: University of Virginia\n",
      "Lines: 9\n",
      "\n",
      "\n",
      "     Chances are that this has been discussed to death already, and\n",
      "if so could someone who has kept the discussion mail me or direct me \n",
      "to an archive site. Basically,\n",
      "I am just wondering if Slick 50 really does all it says that it does.\n",
      "And also, is there any data to support the claim.  Thanks for any info.\n",
      "\n",
      "Mike Davis\n",
      "mad9a@fermi.clas.virginia.edu\n",
      "\n",
      "---\n"
     ]
    }
   ],
   "source": [
    "print('---')\n",
    "print('Text:', articles[0])\n",
    "print('---')"
   ]
  },
  {
   "cell_type": "markdown",
   "metadata": {},
   "source": [
    "Since you want to be prepared to handle a **large amount of data**, you think that MapReduce could be useful for producing some insights about the data. **Follow the instructions below** to use the MapReduce paradigm **to compute a word count** of articles."
   ]
  },
  {
   "cell_type": "markdown",
   "metadata": {},
   "source": [
    "#### Solution sketch:\n",
    "\n",
    "1. Preprocess the data: Lower case all words, remove stop words (e.g., the, an, a), and remove punctuation.\n",
    "2. Define a mapper that produces a key-value pair `(key: word, value:1)`. This will make sure that every word in an article will have an initial count of 1.\n",
    "3. Define a reducer that takes in a mapping and sums the count of every word."
   ]
  },
  {
   "cell_type": "markdown",
   "metadata": {},
   "source": [
    "**a.** Complete the function below to preprocess the articles by transforming all words to lower case."
   ]
  },
  {
   "cell_type": "code",
   "execution_count": 392,
   "metadata": {},
   "outputs": [],
   "source": [
    "def lower_case(article):\n",
    "    lcase = article.lower()\n",
    "    return lcase"
   ]
  },
  {
   "cell_type": "code",
   "execution_count": 393,
   "metadata": {},
   "outputs": [
    {
     "data": {
      "text/plain": [
       "'from: mad9a@fermi.clas.virginia.edu (michael a. davis)\\nsubject: slick 50, any good?\\norganization: university of virginia\\nlines: 9\\n\\n\\n     chances are that this has been discussed to death already, and\\nif so could someone who has kept the discussion mail me or direct me \\nto an archive site. basically,\\ni am just wondering if slick 50 really does all it says that it does.\\nand also, is there any data to support the claim.  thanks for any info.\\n\\nmike davis\\nmad9a@fermi.clas.virginia.edu\\n'"
      ]
     },
     "execution_count": 393,
     "metadata": {},
     "output_type": "execute_result"
    }
   ],
   "source": [
    "articles = [lower_case(article) for article in articles]\n",
    "articles[0]"
   ]
  },
  {
   "cell_type": "markdown",
   "metadata": {},
   "source": [
    "**b.** Apply the function `remove_stopwords` below to remove stop words."
   ]
  },
  {
   "cell_type": "code",
   "execution_count": 394,
   "metadata": {},
   "outputs": [],
   "source": [
    "from sklearn.feature_extraction.text import ENGLISH_STOP_WORDS # Import the list of stop words\n",
    "\n",
    "def remove_stopwords(article):\n",
    "    # Iterate over every word in an article and filter out stop words\n",
    "    # We use the .join() method to concatenate strings using an empty space ` ` between them\n",
    "    return ' '.join([word for word in article.split() if word not in ENGLISH_STOP_WORDS])"
   ]
  },
  {
   "cell_type": "code",
   "execution_count": 395,
   "metadata": {},
   "outputs": [
    {
     "data": {
      "text/plain": [
       "'from: mad9a@fermi.clas.virginia.edu (michael a. davis) subject: slick 50, good? organization: university virginia lines: 9 chances discussed death already, kept discussion mail direct archive site. basically, just wondering slick 50 really does says does. also, data support claim. thanks info. mike davis mad9a@fermi.clas.virginia.edu'"
      ]
     },
     "execution_count": 395,
     "metadata": {},
     "output_type": "execute_result"
    }
   ],
   "source": [
    "articles = [remove_stopwords(article) for article in articles]\n",
    "articles[0]"
   ]
  },
  {
   "cell_type": "markdown",
   "metadata": {},
   "source": [
    "**c.** Use the function below to remove punctuation."
   ]
  },
  {
   "cell_type": "code",
   "execution_count": 396,
   "metadata": {},
   "outputs": [],
   "source": [
    "import string # Import the string package to get the string.punctuation feature\n",
    "\n",
    "def remove_punctuation(text):\n",
    "    table = str.maketrans(dict.fromkeys(string.punctuation)) # Map punctuation characters\n",
    "    no_punctuation = text.translate(table) # Remove punctuation from the string\n",
    "    return no_punctuation"
   ]
  },
  {
   "cell_type": "code",
   "execution_count": 397,
   "metadata": {},
   "outputs": [
    {
     "data": {
      "text/plain": [
       "'from mad9afermiclasvirginiaedu michael a davis subject slick 50 good organization university virginia lines 9 chances discussed death already kept discussion mail direct archive site basically just wondering slick 50 really does says does also data support claim thanks info mike davis mad9afermiclasvirginiaedu'"
      ]
     },
     "execution_count": 397,
     "metadata": {},
     "output_type": "execute_result"
    }
   ],
   "source": [
    "articles = [remove_punctuation(article) for article in articles]\n",
    "articles[0]"
   ]
  },
  {
   "cell_type": "markdown",
   "metadata": {},
   "source": [
    "**d.** Complete the mapper function below."
   ]
  },
  {
   "cell_type": "code",
   "execution_count": null,
   "metadata": {},
   "outputs": [],
   "source": []
  },
  {
   "cell_type": "code",
   "execution_count": 398,
   "metadata": {},
   "outputs": [],
   "source": [
    "def mapper(article):\n",
    "    mapping = pd.DataFrame()\n",
    "    mapping[\"words\"] = article.split()\n",
    "    mapping[\"count\"] = 1\n",
    "    return mapping"
   ]
  },
  {
   "cell_type": "code",
   "execution_count": 399,
   "metadata": {},
   "outputs": [],
   "source": [
    "articlemap = map(mapper, articles)"
   ]
  },
  {
   "cell_type": "markdown",
   "metadata": {},
   "source": [
    "**e.** Complete the reducer function below to compute the word count."
   ]
  },
  {
   "cell_type": "code",
   "execution_count": 400,
   "metadata": {},
   "outputs": [
    {
     "data": {
      "text/html": [
       "<div>\n",
       "<style scoped>\n",
       "    .dataframe tbody tr th:only-of-type {\n",
       "        vertical-align: middle;\n",
       "    }\n",
       "\n",
       "    .dataframe tbody tr th {\n",
       "        vertical-align: top;\n",
       "    }\n",
       "\n",
       "    .dataframe thead th {\n",
       "        text-align: right;\n",
       "    }\n",
       "</style>\n",
       "<table border=\"1\" class=\"dataframe\">\n",
       "  <thead>\n",
       "    <tr style=\"text-align: right;\">\n",
       "      <th></th>\n",
       "      <th>words</th>\n",
       "      <th>count</th>\n",
       "    </tr>\n",
       "  </thead>\n",
       "  <tbody>\n",
       "    <tr>\n",
       "      <th>0</th>\n",
       "      <td>1r0vk6innaftcronkitecentralsuncom</td>\n",
       "      <td>1</td>\n",
       "    </tr>\n",
       "    <tr>\n",
       "      <th>1</th>\n",
       "      <td>23</td>\n",
       "      <td>1</td>\n",
       "    </tr>\n",
       "    <tr>\n",
       "      <th>2</th>\n",
       "      <td>317</td>\n",
       "      <td>1</td>\n",
       "    </tr>\n",
       "    <tr>\n",
       "      <th>3</th>\n",
       "      <td>4510815</td>\n",
       "      <td>1</td>\n",
       "    </tr>\n",
       "    <tr>\n",
       "      <th>4</th>\n",
       "      <td>46904</td>\n",
       "      <td>1</td>\n",
       "    </tr>\n",
       "    <tr>\n",
       "      <th>...</th>\n",
       "      <td>...</td>\n",
       "      <td>...</td>\n",
       "    </tr>\n",
       "    <tr>\n",
       "      <th>116</th>\n",
       "      <td>virginia</td>\n",
       "      <td>1</td>\n",
       "    </tr>\n",
       "    <tr>\n",
       "      <th>117</th>\n",
       "      <td>waiiiiiit</td>\n",
       "      <td>1</td>\n",
       "    </tr>\n",
       "    <tr>\n",
       "      <th>118</th>\n",
       "      <td>ways</td>\n",
       "      <td>1</td>\n",
       "    </tr>\n",
       "    <tr>\n",
       "      <th>119</th>\n",
       "      <td>wondering</td>\n",
       "      <td>1</td>\n",
       "    </tr>\n",
       "    <tr>\n",
       "      <th>120</th>\n",
       "      <td>writes</td>\n",
       "      <td>1</td>\n",
       "    </tr>\n",
       "  </tbody>\n",
       "</table>\n",
       "<p>121 rows × 2 columns</p>\n",
       "</div>"
      ],
      "text/plain": [
       "                                 words  count\n",
       "0    1r0vk6innaftcronkitecentralsuncom      1\n",
       "1                                   23      1\n",
       "2                                  317      1\n",
       "3                              4510815      1\n",
       "4                                46904      1\n",
       "..                                 ...    ...\n",
       "116                           virginia      1\n",
       "117                          waiiiiiit      1\n",
       "118                               ways      1\n",
       "119                          wondering      1\n",
       "120                             writes      1\n",
       "\n",
       "[121 rows x 2 columns]"
      ]
     },
     "execution_count": 400,
     "metadata": {},
     "output_type": "execute_result"
    }
   ],
   "source": [
    "# experimental code block where i tried to reduce two Dataframes into one\n",
    "count = pd.DataFrame() # Initialize the variable accordingly\n",
    "workingMap = pd.concat([workmap[0],workmap[1]])\n",
    "#count['count']= workingMap.groupby('words')['count'].sum()\n",
    "test = workingMap.groupby('words').sum()['count'].values\n",
    "\n",
    "workingMap.groupby('words').sum().reset_index()\n",
    "#count['words']=workingMap.groupby('words')['words']\n"
   ]
  },
  {
   "cell_type": "code",
   "execution_count": 401,
   "metadata": {},
   "outputs": [],
   "source": [
    "# the :pd.DataFrame is a type declaration (i wanted it to have proper code completion)\n",
    "def reducer(first_map:pd.DataFrame, second_map:pd.DataFrame):\n",
    "    workingDataFrame = pd.concat([first_map,second_map])\n",
    "    count = workingDataFrame.groupby('words')['count'].sum().reset_index()\n",
    "    return count\n"
   ]
  },
  {
   "cell_type": "code",
   "execution_count": 402,
   "metadata": {},
   "outputs": [],
   "source": [
    "from functools import reduce\n",
    "\n",
    "wordcount = reduce(reducer, articlemap) # Use the reduce() function to compute the word count.\n"
   ]
  },
  {
   "cell_type": "code",
   "execution_count": 403,
   "metadata": {},
   "outputs": [
    {
     "data": {
      "text/html": [
       "<div>\n",
       "<style scoped>\n",
       "    .dataframe tbody tr th:only-of-type {\n",
       "        vertical-align: middle;\n",
       "    }\n",
       "\n",
       "    .dataframe tbody tr th {\n",
       "        vertical-align: top;\n",
       "    }\n",
       "\n",
       "    .dataframe thead th {\n",
       "        text-align: right;\n",
       "    }\n",
       "</style>\n",
       "<table border=\"1\" class=\"dataframe\">\n",
       "  <thead>\n",
       "    <tr style=\"text-align: right;\">\n",
       "      <th></th>\n",
       "      <th>words</th>\n",
       "      <th>count</th>\n",
       "    </tr>\n",
       "  </thead>\n",
       "  <tbody>\n",
       "    <tr>\n",
       "      <th>0</th>\n",
       "      <td>0</td>\n",
       "      <td>13</td>\n",
       "    </tr>\n",
       "    <tr>\n",
       "      <th>1</th>\n",
       "      <td>00</td>\n",
       "      <td>1</td>\n",
       "    </tr>\n",
       "    <tr>\n",
       "      <th>2</th>\n",
       "      <td>000701</td>\n",
       "      <td>1</td>\n",
       "    </tr>\n",
       "    <tr>\n",
       "      <th>3</th>\n",
       "      <td>002</td>\n",
       "      <td>7</td>\n",
       "    </tr>\n",
       "    <tr>\n",
       "      <th>4</th>\n",
       "      <td>004</td>\n",
       "      <td>2</td>\n",
       "    </tr>\n",
       "    <tr>\n",
       "      <th>...</th>\n",
       "      <td>...</td>\n",
       "      <td>...</td>\n",
       "    </tr>\n",
       "    <tr>\n",
       "      <th>16218</th>\n",
       "      <td>zugates</td>\n",
       "      <td>1</td>\n",
       "    </tr>\n",
       "    <tr>\n",
       "      <th>16219</th>\n",
       "      <td>zx</td>\n",
       "      <td>1</td>\n",
       "    </tr>\n",
       "    <tr>\n",
       "      <th>16220</th>\n",
       "      <td>zx11</td>\n",
       "      <td>5</td>\n",
       "    </tr>\n",
       "    <tr>\n",
       "      <th>16221</th>\n",
       "      <td>zxr</td>\n",
       "      <td>1</td>\n",
       "    </tr>\n",
       "    <tr>\n",
       "      <th>16222</th>\n",
       "      <td>þ</td>\n",
       "      <td>2</td>\n",
       "    </tr>\n",
       "  </tbody>\n",
       "</table>\n",
       "<p>16223 rows × 2 columns</p>\n",
       "</div>"
      ],
      "text/plain": [
       "         words  count\n",
       "0            0     13\n",
       "1           00      1\n",
       "2       000701      1\n",
       "3          002      7\n",
       "4          004      2\n",
       "...        ...    ...\n",
       "16218  zugates      1\n",
       "16219       zx      1\n",
       "16220     zx11      5\n",
       "16221      zxr      1\n",
       "16222        þ      2\n",
       "\n",
       "[16223 rows x 2 columns]"
      ]
     },
     "execution_count": 403,
     "metadata": {},
     "output_type": "execute_result"
    }
   ],
   "source": [
    "wordcount"
   ]
  },
  {
   "cell_type": "markdown",
   "metadata": {},
   "source": [
    "**f.** Sort the word count by its values."
   ]
  },
  {
   "cell_type": "code",
   "execution_count": 406,
   "metadata": {},
   "outputs": [
    {
     "data": {
      "text/html": [
       "<div>\n",
       "<style scoped>\n",
       "    .dataframe tbody tr th:only-of-type {\n",
       "        vertical-align: middle;\n",
       "    }\n",
       "\n",
       "    .dataframe tbody tr th {\n",
       "        vertical-align: top;\n",
       "    }\n",
       "\n",
       "    .dataframe thead th {\n",
       "        text-align: right;\n",
       "    }\n",
       "</style>\n",
       "<table border=\"1\" class=\"dataframe\">\n",
       "  <thead>\n",
       "    <tr style=\"text-align: right;\">\n",
       "      <th></th>\n",
       "      <th>words</th>\n",
       "      <th>count</th>\n",
       "    </tr>\n",
       "  </thead>\n",
       "  <tbody>\n",
       "    <tr>\n",
       "      <th>3537</th>\n",
       "      <td>car</td>\n",
       "      <td>1423</td>\n",
       "    </tr>\n",
       "    <tr>\n",
       "      <th>13923</th>\n",
       "      <td>subject</td>\n",
       "      <td>1041</td>\n",
       "    </tr>\n",
       "    <tr>\n",
       "      <th>6584</th>\n",
       "      <td>from</td>\n",
       "      <td>1040</td>\n",
       "    </tr>\n",
       "    <tr>\n",
       "      <th>8889</th>\n",
       "      <td>lines</td>\n",
       "      <td>1015</td>\n",
       "    </tr>\n",
       "    <tr>\n",
       "      <th>10576</th>\n",
       "      <td>organization</td>\n",
       "      <td>986</td>\n",
       "    </tr>\n",
       "    <tr>\n",
       "      <th>...</th>\n",
       "      <td>...</td>\n",
       "      <td>...</td>\n",
       "    </tr>\n",
       "    <tr>\n",
       "      <th>7140</th>\n",
       "      <td>h3g</td>\n",
       "      <td>1</td>\n",
       "    </tr>\n",
       "    <tr>\n",
       "      <th>11186</th>\n",
       "      <td>policies</td>\n",
       "      <td>1</td>\n",
       "    </tr>\n",
       "    <tr>\n",
       "      <th>2023</th>\n",
       "      <td>altered</td>\n",
       "      <td>1</td>\n",
       "    </tr>\n",
       "    <tr>\n",
       "      <th>7141</th>\n",
       "      <td>h4s</td>\n",
       "      <td>1</td>\n",
       "    </tr>\n",
       "    <tr>\n",
       "      <th>4851</th>\n",
       "      <td>debatable</td>\n",
       "      <td>1</td>\n",
       "    </tr>\n",
       "  </tbody>\n",
       "</table>\n",
       "<p>16223 rows × 2 columns</p>\n",
       "</div>"
      ],
      "text/plain": [
       "              words  count\n",
       "3537            car   1423\n",
       "13923       subject   1041\n",
       "6584           from   1040\n",
       "8889          lines   1015\n",
       "10576  organization    986\n",
       "...             ...    ...\n",
       "7140            h3g      1\n",
       "11186      policies      1\n",
       "2023        altered      1\n",
       "7141            h4s      1\n",
       "4851      debatable      1\n",
       "\n",
       "[16223 rows x 2 columns]"
      ]
     },
     "execution_count": 406,
     "metadata": {},
     "output_type": "execute_result"
    }
   ],
   "source": [
    "ordered_wordcount = wordcount.sort_values(by='count', ascending=False)\n",
    "ordered_wordcount"
   ]
  },
  {
   "cell_type": "markdown",
   "metadata": {},
   "source": [
    "**g.** Run the code block below to show the 25 most frequent words."
   ]
  },
  {
   "cell_type": "code",
   "execution_count": 413,
   "metadata": {},
   "outputs": [
    {
     "data": {
      "text/html": [
       "<div>\n",
       "<style scoped>\n",
       "    .dataframe tbody tr th:only-of-type {\n",
       "        vertical-align: middle;\n",
       "    }\n",
       "\n",
       "    .dataframe tbody tr th {\n",
       "        vertical-align: top;\n",
       "    }\n",
       "\n",
       "    .dataframe thead th {\n",
       "        text-align: right;\n",
       "    }\n",
       "</style>\n",
       "<table border=\"1\" class=\"dataframe\">\n",
       "  <thead>\n",
       "    <tr style=\"text-align: right;\">\n",
       "      <th></th>\n",
       "      <th>words</th>\n",
       "      <th>count</th>\n",
       "    </tr>\n",
       "  </thead>\n",
       "  <tbody>\n",
       "    <tr>\n",
       "      <th>3537</th>\n",
       "      <td>car</td>\n",
       "      <td>1423</td>\n",
       "    </tr>\n",
       "    <tr>\n",
       "      <th>13923</th>\n",
       "      <td>subject</td>\n",
       "      <td>1041</td>\n",
       "    </tr>\n",
       "    <tr>\n",
       "      <th>6584</th>\n",
       "      <td>from</td>\n",
       "      <td>1040</td>\n",
       "    </tr>\n",
       "    <tr>\n",
       "      <th>8889</th>\n",
       "      <td>lines</td>\n",
       "      <td>1015</td>\n",
       "    </tr>\n",
       "    <tr>\n",
       "      <th>10576</th>\n",
       "      <td>organization</td>\n",
       "      <td>986</td>\n",
       "    </tr>\n",
       "    <tr>\n",
       "      <th>15967</th>\n",
       "      <td>writes</td>\n",
       "      <td>806</td>\n",
       "    </tr>\n",
       "    <tr>\n",
       "      <th>11812</th>\n",
       "      <td>re</td>\n",
       "      <td>804</td>\n",
       "    </tr>\n",
       "    <tr>\n",
       "      <th>2334</th>\n",
       "      <td>article</td>\n",
       "      <td>724</td>\n",
       "    </tr>\n",
       "    <tr>\n",
       "      <th>3586</th>\n",
       "      <td>cars</td>\n",
       "      <td>572</td>\n",
       "    </tr>\n",
       "    <tr>\n",
       "      <th>8867</th>\n",
       "      <td>like</td>\n",
       "      <td>532</td>\n",
       "    </tr>\n",
       "    <tr>\n",
       "      <th>8381</th>\n",
       "      <td>just</td>\n",
       "      <td>521</td>\n",
       "    </tr>\n",
       "    <tr>\n",
       "      <th>5370</th>\n",
       "      <td>dont</td>\n",
       "      <td>483</td>\n",
       "    </tr>\n",
       "    <tr>\n",
       "      <th>8148</th>\n",
       "      <td>it</td>\n",
       "      <td>462</td>\n",
       "    </tr>\n",
       "    <tr>\n",
       "      <th>10194</th>\n",
       "      <td>nntppostinghost</td>\n",
       "      <td>459</td>\n",
       "    </tr>\n",
       "    <tr>\n",
       "      <th>15094</th>\n",
       "      <td>university</td>\n",
       "      <td>441</td>\n",
       "    </tr>\n",
       "    <tr>\n",
       "      <th>6920</th>\n",
       "      <td>good</td>\n",
       "      <td>395</td>\n",
       "    </tr>\n",
       "    <tr>\n",
       "      <th>8562</th>\n",
       "      <td>know</td>\n",
       "      <td>389</td>\n",
       "    </tr>\n",
       "    <tr>\n",
       "      <th>10111</th>\n",
       "      <td>new</td>\n",
       "      <td>376</td>\n",
       "    </tr>\n",
       "    <tr>\n",
       "      <th>5753</th>\n",
       "      <td>engine</td>\n",
       "      <td>371</td>\n",
       "    </tr>\n",
       "    <tr>\n",
       "      <th>8169</th>\n",
       "      <td>its</td>\n",
       "      <td>368</td>\n",
       "    </tr>\n",
       "    <tr>\n",
       "      <th>7759</th>\n",
       "      <td>im</td>\n",
       "      <td>361</td>\n",
       "    </tr>\n",
       "    <tr>\n",
       "      <th>14449</th>\n",
       "      <td>think</td>\n",
       "      <td>355</td>\n",
       "    </tr>\n",
       "    <tr>\n",
       "      <th>7682</th>\n",
       "      <td>i</td>\n",
       "      <td>347</td>\n",
       "    </tr>\n",
       "    <tr>\n",
       "      <th>5297</th>\n",
       "      <td>distribution</td>\n",
       "      <td>330</td>\n",
       "    </tr>\n",
       "    <tr>\n",
       "      <th>14391</th>\n",
       "      <td>the</td>\n",
       "      <td>321</td>\n",
       "    </tr>\n",
       "  </tbody>\n",
       "</table>\n",
       "</div>"
      ],
      "text/plain": [
       "                 words  count\n",
       "3537               car   1423\n",
       "13923          subject   1041\n",
       "6584              from   1040\n",
       "8889             lines   1015\n",
       "10576     organization    986\n",
       "15967           writes    806\n",
       "11812               re    804\n",
       "2334           article    724\n",
       "3586              cars    572\n",
       "8867              like    532\n",
       "8381              just    521\n",
       "5370              dont    483\n",
       "8148                it    462\n",
       "10194  nntppostinghost    459\n",
       "15094       university    441\n",
       "6920              good    395\n",
       "8562              know    389\n",
       "10111              new    376\n",
       "5753            engine    371\n",
       "8169               its    368\n",
       "7759                im    361\n",
       "14449            think    355\n",
       "7682                 i    347\n",
       "5297      distribution    330\n",
       "14391              the    321"
      ]
     },
     "execution_count": 413,
     "metadata": {},
     "output_type": "execute_result"
    }
   ],
   "source": [
    "ordered_wordcount.head(25)\n"
   ]
  },
  {
   "cell_type": "code",
   "execution_count": 418,
   "metadata": {},
   "outputs": [
    {
     "name": "stdout",
     "output_type": "stream",
     "text": [
      "car ████████████████████████████ 1423\n",
      "subject ████████████████████ 1041\n",
      "from ████████████████████ 1040\n",
      "lines ████████████████████ 1015\n",
      "organization ███████████████████ 986\n",
      "writes ████████████████ 806\n",
      "re ████████████████ 804\n",
      "article ██████████████ 724\n",
      "cars ███████████ 572\n",
      "like ██████████ 532\n",
      "just ██████████ 521\n",
      "dont █████████ 483\n",
      "it █████████ 462\n",
      "nntppostinghost █████████ 459\n",
      "university ████████ 441\n",
      "good ███████ 395\n",
      "know ███████ 389\n",
      "new ███████ 376\n",
      "engine ███████ 371\n",
      "its ███████ 368\n",
      "im ███████ 361\n",
      "think ███████ 355\n",
      "i ██████ 347\n",
      "distribution ██████ 330\n",
      "the ██████ 321\n"
     ]
    }
   ],
   "source": [
    "# Use the code below to produce a simple character-based Bar Chart.\n",
    "# We use the special character \\u2588 to improve visualization\n",
    "\n",
    "\n",
    "\n",
    "for v in ordered_wordcount.head(25).itertuples():\n",
    "    \n",
    "    bar_size = int(v.count*0.02) # Since the value is too large (> 1000), we need to adjust the size of the bar to favor readability\n",
    "    print(v.words, '\\u2588'*bar_size, v.count)"
   ]
  }
 ],
 "metadata": {
  "interpreter": {
   "hash": "d88b4992e5b06b322ead3277a6c0c22aea73de159b15016e3d5eb1aecc84f355"
  },
  "kernelspec": {
   "display_name": "Python 3.9.13 ('base')",
   "language": "python",
   "name": "python3"
  },
  "language_info": {
   "codemirror_mode": {
    "name": "ipython",
    "version": 3
   },
   "file_extension": ".py",
   "mimetype": "text/x-python",
   "name": "python",
   "nbconvert_exporter": "python",
   "pygments_lexer": "ipython3",
   "version": "3.9.13"
  }
 },
 "nbformat": 4,
 "nbformat_minor": 4
}
